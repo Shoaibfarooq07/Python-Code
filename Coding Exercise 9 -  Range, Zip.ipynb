{
 "cells": [
  {
   "cell_type": "code",
   "execution_count": 1,
   "id": "615fc3c8-d7e7-4b8b-bc51-164f2ed38cba",
   "metadata": {},
   "outputs": [
    {
     "name": "stdout",
     "output_type": "stream",
     "text": [
      "0\n",
      "2\n",
      "4\n",
      "6\n",
      "8\n",
      "10\n",
      "12\n",
      "14\n",
      "16\n",
      "18\n"
     ]
    }
   ],
   "source": [
    "#Print all the even numbers from 0 to 20.\n",
    "for num in range(0,20,2):\n",
    "    print(num)\n"
   ]
  },
  {
   "cell_type": "code",
   "execution_count": 3,
   "id": "672b1ac8-20c2-4225-86fb-ad53ed011927",
   "metadata": {},
   "outputs": [
    {
     "name": "stdout",
     "output_type": "stream",
     "text": [
      "10\n",
      "11\n",
      "12\n",
      "13\n",
      "14\n",
      "15\n",
      "16\n",
      "17\n",
      "18\n",
      "19\n",
      "20\n"
     ]
    }
   ],
   "source": [
    "#Create a list of numbers from 10 to 20 (inclusive) using range, then print each element.\n",
    "for num in range(10,21):\n",
    "    print(num)\n"
   ]
  },
  {
   "cell_type": "code",
   "execution_count": 9,
   "id": "f7e5eb8f-8237-4f54-9bba-c00286613259",
   "metadata": {},
   "outputs": [
    {
     "name": "stdout",
     "output_type": "stream",
     "text": [
      "3\n",
      "8\n",
      "15\n",
      "24\n",
      "35\n"
     ]
    }
   ],
   "source": [
    "#Given a list of numbers [3, 5, 7, 9, 11], use a for loop to find the sum of the elements.\n",
    "mylist=[3,5,7,9,11]\n",
    "r = 0\n",
    "for num in mylist:\n",
    "    r=r+num\n",
    "    print(r)    "
   ]
  },
  {
   "cell_type": "code",
   "execution_count": 9,
   "id": "ae79e493-2a0c-4593-bb9c-361731f79c9a",
   "metadata": {},
   "outputs": [
    {
     "name": "stdout",
     "output_type": "stream",
     "text": [
      "5\n",
      "28\n"
     ]
    }
   ],
   "source": [
    "#Given a list [13, 8, 24, 5, 18], find the smallest and largest numbers using min and max.\n",
    "mylist=[13,8,24,5,28]\n",
    "print(min(mylist))\n",
    "print(max(mylist))"
   ]
  },
  {
   "cell_type": "code",
   "execution_count": 41,
   "id": "8a2c41be-aaf3-408b-a132-d32d6aaf1820",
   "metadata": {},
   "outputs": [
    {
     "name": "stdout",
     "output_type": "stream",
     "text": [
      "[6, 20, 42]\n"
     ]
    }
   ],
   "source": [
    "#Given two lists, list1 = [2, 4, 6] and list2 = [3, 5, 7], use zip \n",
    "#and a for loop to multiply each pair of elements and store the results in a new list.\n",
    "mylist1=[2,4,6]\n",
    "mylist2=[3,5,7]\n",
    "newlist=[]\n",
    "for a,b in zip(mylist1,mylist2):\n",
    "    x=a*b\n",
    "    newlist.append(x)\n",
    "print(newlist)\n",
    "   \n",
    "    \n"
   ]
  },
  {
   "cell_type": "code",
   "execution_count": 35,
   "id": "27be6b37-9dd2-4cf3-bd17-40bc08414483",
   "metadata": {},
   "outputs": [
    {
     "name": "stdout",
     "output_type": "stream",
     "text": [
      "[1, 3, 6, 10, 15]\n"
     ]
    }
   ],
   "source": [
    "#Create a list [1, 2, 3, 4, 5]. Using a for loop, create a new list that stores the cumulative \n",
    "#sum at each position (e.g., [1, 3, 6, 10, 15]).\n",
    "mylist=[1,2,3,4,5]\n",
    "list2=[]\n",
    "sum = 0\n",
    "for num in mylist:\n",
    "    \n",
    "    sum=sum+num\n",
    "    list2.append(sum)\n",
    "print(list2)\n",
    " "
   ]
  },
  {
   "cell_type": "code",
   "execution_count": 25,
   "id": "ee8ad876-f1c2-4053-b6b9-b97c55b1bad1",
   "metadata": {},
   "outputs": [
    {
     "name": "stdout",
     "output_type": "stream",
     "text": [
      "4\n",
      "5\n",
      "6\n"
     ]
    }
   ],
   "source": [
    "#Given two lists, list1 = [1, 2, 3] and list2 = [4, 5, 6], use zip and max to find the pair that produces the maximum product.\n",
    "list1= [1,2,3]\n",
    "list2= [4,5,6]\n",
    "for item in zip(list1,list2):\n",
    "    print(max(item))\n",
    "\n"
   ]
  },
  {
   "cell_type": "code",
   "execution_count": null,
   "id": "fd794520-ef9c-4b89-8c48-61da2cc9cb1f",
   "metadata": {},
   "outputs": [],
   "source": []
  }
 ],
 "metadata": {
  "kernelspec": {
   "display_name": "Python [conda env:anaconda3] *",
   "language": "python",
   "name": "conda-env-anaconda3-py"
  },
  "language_info": {
   "codemirror_mode": {
    "name": "ipython",
    "version": 3
   },
   "file_extension": ".py",
   "mimetype": "text/x-python",
   "name": "python",
   "nbconvert_exporter": "python",
   "pygments_lexer": "ipython3",
   "version": "3.12.7"
  }
 },
 "nbformat": 4,
 "nbformat_minor": 5
}
