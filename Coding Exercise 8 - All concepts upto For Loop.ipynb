{
 "cells": [
  {
   "cell_type": "code",
   "execution_count": 3,
   "id": "bc1d046d-36c8-48f8-8319-0e2f188deb5f",
   "metadata": {},
   "outputs": [
    {
     "name": "stdout",
     "output_type": "stream",
     "text": [
      "[4, 16, 36, 64, 100]\n"
     ]
    }
   ],
   "source": [
    "# Exercise 1: Working with Lists and Loops\n",
    "\n",
    "# Create a list of numbers from 1 to 10. \n",
    "# Use a for loop to create a new list where each number is doubled,\n",
    "# but only if it is an even number. Display the result in a formatted string.\n",
    "list1 = [1,2,3,4,5,6,7,8,9,10]\n",
    "mylist=[num*num    for num in list1 if num%2==0]\n",
    "print(mylist)"
   ]
  },
  {
   "cell_type": "code",
   "execution_count": 7,
   "id": "8b8dc418-1927-4c45-addd-24f5370ee5ac",
   "metadata": {},
   "outputs": [
    {
     "name": "stdin",
     "output_type": "stream",
     "text": [
      "enter the your age 12\n"
     ]
    },
    {
     "name": "stdout",
     "output_type": "stream",
     "text": [
      "you are an minor\n"
     ]
    }
   ],
   "source": [
    "# Exercise 2: String Formatting and Comparison Operators\n",
    "\n",
    "# Ask the user to input their age and compare it to a predefined age threshold of 18. \n",
    "# Print a formatted message telling them if they are a minor or an adult.\n",
    "x= int(input(\"enter the your age\"))\n",
    "if x>=18 :\n",
    "    print(\"you are an adult\")\n",
    "elif x<18 :\n",
    "    print(\"you are an minor\")    \n",
    "    \n",
    "    \n",
    "\n"
   ]
  },
  {
   "cell_type": "code",
   "execution_count": 13,
   "id": "063bc713-c014-4188-9944-5cacc339c577",
   "metadata": {},
   "outputs": [
    {
     "name": "stdout",
     "output_type": "stream",
     "text": [
      "['apple', 'grapes', 'watermelon']\n",
      "['apple', 'banana', 'grapes', 'melon', 'watermelon', 'papaya']\n",
      "['apple', 'banana', 'grapes', 'melon', 'papaya', 'watermelon']\n",
      "['watermelon', 'papaya', 'melon', 'grapes', 'banana', 'apple']\n"
     ]
    }
   ],
   "source": [
    "# Exercise 3: Indexing, Slicing, and List Methods\n",
    "\n",
    "# Create a list of your favorite fruits and display the first, middle, and last items using indexing. \n",
    "# Add another fruit to the list, then sort and print the list in reverse order.\n",
    "mylist= [\"apple\",\"banana\",\"grapes\",\"melon\",\"watermelon\"]\n",
    "print(mylist[::2])\n",
    "mylist.append(\"papaya\")\n",
    "print(mylist)\n",
    "mylist.sort()\n",
    "print(mylist)\n",
    "mylist.reverse()\n",
    "print(mylist)\n"
   ]
  },
  {
   "cell_type": "code",
   "execution_count": null,
   "id": "79a18ae1-be4c-4481-a537-79d69bd4cecf",
   "metadata": {},
   "outputs": [],
   "source": []
  },
  {
   "cell_type": "code",
   "execution_count": 1,
   "id": "ad21c6f9-1b14-47a7-ae8a-c3bf97f3786e",
   "metadata": {},
   "outputs": [
    {
     "name": "stdin",
     "output_type": "stream",
     "text": [
      "enter the threshold age 18\n"
     ]
    },
    {
     "name": "stdout",
     "output_type": "stream",
     "text": [
      "shoaib\n",
      "faizan\n",
      "zahid\n"
     ]
    }
   ],
   "source": [
    "# Exercise 4: Dictionaries, Control Flow, and User Input\n",
    "\n",
    "# Create a dictionary containing a few friends' names as keys and their ages as values. \n",
    "# Ask the user for an age threshold, and then print the names of friends older than that age.\n",
    "x = int(input(\"enter the threshold age\"))\n",
    "di1= {\"shoaib\": 22 , \"faizan\": 24 , \"zahid\" : 21, \"zaid\": 17}\n",
    "for key,value in di1.items():\n",
    "    if value > x :\n",
    "        print(key)\n",
    "    \n",
    "        \n",
    "    \n",
    "     \n",
    "    \n",
    "        \n",
    "    \n",
    "\n",
    "\n",
    "        \n"
   ]
  },
  {
   "cell_type": "code",
   "execution_count": 9,
   "id": "2fdb009e-2a45-41ba-8ab0-ac0143476b0e",
   "metadata": {},
   "outputs": [
    {
     "name": "stdout",
     "output_type": "stream",
     "text": [
      "numbers are positive\n",
      "numbers are positive\n",
      "numbers are positive\n",
      "numbers are positive\n",
      "numbers are positive\n",
      "the numbers are negative\n",
      "the unique from the set {1, 3, 4, 5, 7, -1}\n"
     ]
    }
   ],
   "source": [
    "# Exercise 5: Tuples, Sets, and Logical Operators\n",
    "\n",
    "# Define a tuple containing some numbers and create a set from it. Check if all numbers in the tuple are positive\n",
    "# using a for loop and logical operators, then print the unique values from the set.  \n",
    "t = (1,3,4,3,5,7,-1,4)\n",
    "r=(set(t))\n",
    "for el in r:\n",
    "    if el< 0 :\n",
    "        print(\"the numbers are negative\")\n",
    "    else:\n",
    "        print(\"numbers are positive\")\n",
    "print(\"the unique from the set\",r)        "
   ]
  },
  {
   "cell_type": "code",
   "execution_count": 25,
   "id": "e4da3085-bad8-495d-a490-ea664fb21336",
   "metadata": {},
   "outputs": [
    {
     "name": "stdout",
     "output_type": "stream",
     "text": [
      "17\n",
      "11\n",
      "18\n",
      "14\n",
      "19\n"
     ]
    }
   ],
   "source": [
    "# Exercise 6: Chained Comparison and Boolean Logic\n",
    "\n",
    "# Using a list of numbers, print only the numbers that are between 10 and 20 (inclusive) or exactly equal to 5.\n",
    "list1 = [2,17,11,18,14,19]\n",
    "for num in list1:\n",
    "    if num>=10 and num<=20 or num==5:\n",
    "        print(num)\n",
    "      \n",
    "\n",
    "    \n"
   ]
  },
  {
   "cell_type": "code",
   "execution_count": 95,
   "id": "2afe4a45-caf5-4c3a-a089-d6d5e9966a9d",
   "metadata": {},
   "outputs": [
    {
     "name": "stdout",
     "output_type": "stream",
     "text": [
      "shoaib is over 18 years old\n",
      "faixan is over 18 years old\n",
      "ryhan is over 18 years old\n"
     ]
    }
   ],
   "source": [
    "# Exercise 7: Nested Lists, Indexing, and Looping\n",
    "\n",
    "# Create a nested list where each sublist contains a person's name and age. \n",
    "# Use a for loop to check if the person is over 18. \n",
    "# If they are, print a formatted message with their name.\n",
    "list1 = [[\"shoaib\", 22],[\"faixan\",23],[\"ryhan\",24]]\n",
    "for i in list1:\n",
    "    name=i[0]\n",
    "    age=i[1]\n",
    "    if age>18:\n",
    "       print(f\"{name} is over 18 years old\")        \n",
    "        "
   ]
  },
  {
   "cell_type": "code",
   "execution_count": 9,
   "id": "9bef0bf3-457a-4875-817c-36df1e12b093",
   "metadata": {},
   "outputs": [
    {
     "name": "stdout",
     "output_type": "stream",
     "text": [
      "shoaib\n",
      "shoaib is over 18 yrs old\n",
      "faixan\n",
      "faixan is over 18 yrs old\n",
      "ryhan\n",
      "ryhan is over 18 yrs old\n"
     ]
    }
   ],
   "source": [
    "list1 = [[\"shoaib\", 22],[\"faixan\",23],[\"ryhan\",24]]\n",
    "for i,r in list1:\n",
    "    print(i)\n",
    "    if r>=18:\n",
    "        print(f\"{i} is over 18 yrs old\")"
   ]
  },
  {
   "cell_type": "code",
   "execution_count": 17,
   "id": "7bda3e23-f826-48aa-9591-11620935c707",
   "metadata": {},
   "outputs": [
    {
     "name": "stdout",
     "output_type": "stream",
     "text": [
      "even number 4\n",
      "even number 16\n",
      "even number 36\n",
      "even number 64\n",
      "even number 100\n",
      "[4, 16, 36, 64, 100]\n"
     ]
    }
   ],
   "source": [
    "list1 = [1,2,3,4,5,6,7,8,9,10]\n",
    "list_3=[]\n",
    "for num in list1:\n",
    "    if num%2==0:\n",
    "        print(\"even number\",num*num)\n",
    "        list_3.append(num*num)\n",
    "print(list_3)        "
   ]
  },
  {
   "cell_type": "code",
   "execution_count": null,
   "id": "f1473c2e-5932-4e5f-b618-ff621dc404c1",
   "metadata": {},
   "outputs": [],
   "source": []
  }
 ],
 "metadata": {
  "kernelspec": {
   "display_name": "Python [conda env:anaconda3] *",
   "language": "python",
   "name": "conda-env-anaconda3-py"
  },
  "language_info": {
   "codemirror_mode": {
    "name": "ipython",
    "version": 3
   },
   "file_extension": ".py",
   "mimetype": "text/x-python",
   "name": "python",
   "nbconvert_exporter": "python",
   "pygments_lexer": "ipython3",
   "version": "3.12.7"
  }
 },
 "nbformat": 4,
 "nbformat_minor": 5
}
