{
 "cells": [
  {
   "cell_type": "code",
   "execution_count": 3,
   "id": "21f8ceaf-5df6-4b85-a3c7-0fc4feea3156",
   "metadata": {},
   "outputs": [
    {
     "name": "stdout",
     "output_type": "stream",
     "text": [
      "D\n",
      "e\n"
     ]
    }
   ],
   "source": [
    "#1. Given a string s = \"DataScience\", write code to extract the first and last characters.\n",
    "s=\"Datascience\"\n",
    "print(s[0])\n",
    "print(s[10])"
   ]
  },
  {
   "cell_type": "code",
   "execution_count": 5,
   "id": "20175adb-cae9-4637-96a9-456061c79507",
   "metadata": {},
   "outputs": [
    {
     "name": "stdout",
     "output_type": "stream",
     "text": [
      "nohtyp\n"
     ]
    }
   ],
   "source": [
    "#2. Given a string s = \"Python\", write code to reverse the string using slicing.\n",
    "s=\"python\"\n",
    "print(s[::-1])"
   ]
  },
  {
   "cell_type": "code",
   "execution_count": 7,
   "id": "91289c87-f87c-421f-a750-5747867a6631",
   "metadata": {},
   "outputs": [
    {
     "name": "stdout",
     "output_type": "stream",
     "text": [
      "world\n"
     ]
    }
   ],
   "source": [
    "#3. Given a string s = \"HelloWorld\", write code to extract the substring \"World\"\n",
    "s=\"helloworld\"\n",
    "print(s[5:])"
   ]
  },
  {
   "cell_type": "code",
   "execution_count": 25,
   "id": "782b9736-4e79-435d-80f4-a3261e7a09a3",
   "metadata": {},
   "outputs": [
    {
     "name": "stdout",
     "output_type": "stream",
     "text": [
      "datascience\n"
     ]
    }
   ],
   "source": [
    "#4. Given two strings s1 = \"Data\" and s2 = \"Science\", write code to concatenate them\n",
    "s1=\"data\"\n",
    "s2=\"science\"\n",
    "print(s1+s2)"
   ]
  },
  {
   "cell_type": "code",
   "execution_count": 23,
   "id": "71b2784f-8626-437b-92ca-f31cbd84a474",
   "metadata": {},
   "outputs": [
    {
     "name": "stdout",
     "output_type": "stream",
     "text": [
      "hellohellohello\n"
     ]
    }
   ],
   "source": [
    "#5. Question: Given a string s = \"Hello\", Repeat s string multiple times.\n",
    "s=\"hello\"\n",
    "print(s*3)"
   ]
  },
  {
   "cell_type": "code",
   "execution_count": 9,
   "id": "5b490f7c-7dd4-4a8b-a4bd-cf4bbe8fbe15",
   "metadata": {},
   "outputs": [
    {
     "name": "stdout",
     "output_type": "stream",
     "text": [
      "aceg\n"
     ]
    }
   ],
   "source": [
    "#6. Given a string s = \"abcdefgh\", write code to extract every second character\n",
    "s= \"abcdefgh\"\n",
    "print(s[::2])"
   ]
  },
  {
   "cell_type": "code",
   "execution_count": 1,
   "id": "9f4e119f-c15e-44a0-9a6c-203e577fc8aa",
   "metadata": {},
   "outputs": [
    {
     "name": "stdout",
     "output_type": "stream",
     "text": [
      "mming\n"
     ]
    }
   ],
   "source": [
    "#7. Given a string s = \"Programming\", write code to extract the last 5 characters using negative indexing.\n",
    "s=\"programming\"\n",
    "print(s[-5:])"
   ]
  },
  {
   "cell_type": "code",
   "execution_count": 19,
   "id": "8eed6cda-2ac3-476f-b8c8-b4517203a705",
   "metadata": {},
   "outputs": [
    {
     "name": "stdout",
     "output_type": "stream",
     "text": [
      "hello world\n"
     ]
    }
   ],
   "source": [
    "#8. Given s1 = \"Hello\" and s2 = \"World\", concatenate them with a space between them.\n",
    "s1=\"hello\"\n",
    "s2=\"world\"\n",
    "print(s1+\" \"+s2)"
   ]
  },
  {
   "cell_type": "code",
   "execution_count": 21,
   "id": "de59e89e-38f2-49c1-8da5-a3d96d09a4bb",
   "metadata": {},
   "outputs": [
    {
     "name": "stdout",
     "output_type": "stream",
     "text": [
      "11\n"
     ]
    }
   ],
   "source": [
    "#9. Write code to find the length of the string s = \"DataScience\"\n",
    "s=\"datascience\"\n",
    "print(len(s))"
   ]
  },
  {
   "cell_type": "code",
   "execution_count": null,
   "id": "884200c8-2bb3-49b5-a1a1-024cac518d67",
   "metadata": {},
   "outputs": [],
   "source": []
  }
 ],
 "metadata": {
  "kernelspec": {
   "display_name": "Python [conda env:anaconda3] *",
   "language": "python",
   "name": "conda-env-anaconda3-py"
  },
  "language_info": {
   "codemirror_mode": {
    "name": "ipython",
    "version": 3
   },
   "file_extension": ".py",
   "mimetype": "text/x-python",
   "name": "python",
   "nbconvert_exporter": "python",
   "pygments_lexer": "ipython3",
   "version": "3.12.7"
  }
 },
 "nbformat": 4,
 "nbformat_minor": 5
}
