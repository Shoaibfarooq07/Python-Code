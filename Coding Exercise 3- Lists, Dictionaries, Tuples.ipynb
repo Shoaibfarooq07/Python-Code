{
 "cells": [
  {
   "cell_type": "code",
   "execution_count": 1,
   "id": "316a1a63-c876-4eca-bcb7-b59bb85d7e7a",
   "metadata": {},
   "outputs": [
    {
     "name": "stdout",
     "output_type": "stream",
     "text": [
      "55\n"
     ]
    }
   ],
   "source": [
    "#1 Create a list of integers from 1 to 10. Print the list and the sum of all its elements.\n",
    "a=[1,2,3,4,5,6,7,8,9,10]\n",
    "print(sum(a))"
   ]
  },
  {
   "cell_type": "code",
   "execution_count": 83,
   "id": "326ea67b-8fdd-4532-a373-7ed7c75651c0",
   "metadata": {},
   "outputs": [
    {
     "name": "stdout",
     "output_type": "stream",
     "text": [
      "['apple', 'banana', 'date']\n",
      "['fig', 'cherry']\n"
     ]
    }
   ],
   "source": [
    "#2 Given a list of fruits, slice and print the first 3 and the last 2 fruits from the list.\n",
    "#fruits = ['apple', 'banana', 'cherry', 'date', 'elderberry', 'fig']\n",
    "fruits=['apple','banana','date',\"elderberry\",\"fig\",'cherry']\n",
    "print(fruits[:3])\n",
    "print(fruits[4:])"
   ]
  },
  {
   "cell_type": "code",
   "execution_count": 7,
   "id": "85d368bf-5495-4540-aada-82913c0d99bf",
   "metadata": {},
   "outputs": [
    {
     "name": "stdout",
     "output_type": "stream",
     "text": [
      "[10, 20, 200, 40, 50]\n"
     ]
    }
   ],
   "source": [
    "#3 Change the 2nd element of the list [10, 20, 30, 40] to 200, then append 50 to the end of the list. Print the modified list.\n",
    "lis=[10,20,30,40]\n",
    "lis[2]=200\n",
    "lis.append(50)\n",
    "print(lis)"
   ]
  },
  {
   "cell_type": "code",
   "execution_count": 25,
   "id": "60eb1f4f-efaf-44f1-87de-90c784d0bc42",
   "metadata": {},
   "outputs": [
    {
     "name": "stdout",
     "output_type": "stream",
     "text": [
      "90\n"
     ]
    }
   ],
   "source": [
    "#4 Create a dictionary with three students and their corresponding marks. Print the dictionary and access the marks of one student.\n",
    "#students = {'John': 85, 'Alice': 90, 'Bob': 78}\n",
    "students={\"john\": 85, \"alice\" : 90, \"bob\" :78}\n",
    "print(students[\"alice\"])\n",
    "\n"
   ]
  },
  {
   "cell_type": "code",
   "execution_count": 87,
   "id": "27692e55-d995-4cc4-aa7e-c5f3c8039217",
   "metadata": {},
   "outputs": [
    {
     "name": "stdout",
     "output_type": "stream",
     "text": [
      "{'john': 78, 'alice': 90, 'bob': 78, 'shoaib': 87}\n"
     ]
    }
   ],
   "source": [
    "#5 Create a dictionary and update the marks of one student. Also, add a new student to the dictionary.\n",
    "#students = {'John': 85, 'Alice': 90, 'Bob': 78}\n",
    "students={'john' : 85, \"alice\" : 90, \"bob\" : 78}\n",
    "students['john'] = 78\n",
    "students[\"shoaib\"]=87\n",
    "print(students)"
   ]
  },
  {
   "cell_type": "code",
   "execution_count": 37,
   "id": "4b292d9b-7982-4192-8882-a12f6fcb5239",
   "metadata": {},
   "outputs": [
    {
     "name": "stdout",
     "output_type": "stream",
     "text": [
      "('london', 'birlin')\n"
     ]
    }
   ],
   "source": [
    "#6 Create a tuple with 5 city names and print the second and fourth cities.\n",
    "#cities = ('New York', 'Paris', 'London', 'Tokyo', 'Berlin')\n",
    "cities=('newyork' , 'paris', 'london',   'tokyo', 'birlin')\n",
    "print(cities[2::2])"
   ]
  },
  {
   "cell_type": "code",
   "execution_count": 27,
   "id": "bcd5ae55-2e6b-4015-a53b-8b3370f91027",
   "metadata": {},
   "outputs": [
    {
     "name": "stdout",
     "output_type": "stream",
     "text": [
      "{'cherry', 'banana', 'apple', 'grapes'}\n"
     ]
    }
   ],
   "source": [
    "#7 Create a set of unique fruits and print it. Then, add a new fruit to the set.\n",
    "#fruits = {'apple', 'banana', 'cherry'}\n",
    "fruits={'apple', 'banana','cherry'}\n",
    "fruits.add(\"grapes\")\n",
    "print(fruits)"
   ]
  },
  {
   "cell_type": "code",
   "execution_count": 43,
   "id": "a29f6291-8e93-47e3-b693-3ffa6ad3be4c",
   "metadata": {},
   "outputs": [
    {
     "name": "stdout",
     "output_type": "stream",
     "text": [
      "{1, 3, 6, 8, 9}\n"
     ]
    }
   ],
   "source": [
    "# Create a list with duplicate items. Now print only the unique items from the given list using sets.\n",
    "lis=[1,3,1,8,9,9,6,8]\n",
    "print(set(lis))\n"
   ]
  },
  {
   "cell_type": "code",
   "execution_count": 1,
   "id": "427b4438-4b26-4799-8dc3-b1812375b73e",
   "metadata": {},
   "outputs": [
    {
     "name": "stdout",
     "output_type": "stream",
     "text": [
      "True\n"
     ]
    }
   ],
   "source": [
    "#8 Check if the number 10 is greater than 5 and less than 20. Print the result.\n",
    "number = 10 > 5 and 10<20\n",
    "print(number)\n"
   ]
  },
  {
   "cell_type": "code",
   "execution_count": 89,
   "id": "130e9721-7cc3-412b-9f5d-b75a898d339b",
   "metadata": {},
   "outputs": [
    {
     "name": "stdout",
     "output_type": "stream",
     "text": [
      "[1, 8, 9, 8]\n"
     ]
    }
   ],
   "source": [
    "#9 Given a list of numbers, remove the third element and then the last element. Print the modified list.\n",
    "a= [1,8,9,5,8,7]\n",
    "a.pop(3)\n",
    "a.pop()\n",
    "print(a)"
   ]
  },
  {
   "cell_type": "code",
   "execution_count": 21,
   "id": "60fd601f-ba34-4ad0-9484-b166c0ae5f0c",
   "metadata": {},
   "outputs": [
    {
     "name": "stdout",
     "output_type": "stream",
     "text": [
      "[1, 2, 3, 4, 5, 6]\n"
     ]
    }
   ],
   "source": [
    "#10 Concatenate two lists [1, 2, 3] and [4, 5, 6]. Print the result.\n",
    "a=[1,2,3]\n",
    "b=[4,5,6]\n",
    "print(a+b)"
   ]
  },
  {
   "cell_type": "code",
   "execution_count": 23,
   "id": "5b1cdfde-664b-451d-9a76-8d39c04b72a6",
   "metadata": {},
   "outputs": [
    {
     "name": "stdout",
     "output_type": "stream",
     "text": [
      "['a', 'b', 'c', 'a', 'b', 'c', 'a', 'b', 'c']\n"
     ]
    }
   ],
   "source": [
    "#11 Create a list ['a', 'b', 'c'] and repeat its elements 3 times.\n",
    "a=['a','b','c']\n",
    "print(a*3)"
   ]
  },
  {
   "cell_type": "code",
   "execution_count": 15,
   "id": "0d417875-681d-4292-917a-dadc6e33be16",
   "metadata": {},
   "outputs": [
    {
     "name": "stdout",
     "output_type": "stream",
     "text": [
      "4\n"
     ]
    }
   ],
   "source": [
    "#12 Create a dictionary of 4 items and print its length (number of key-value pairs).\n",
    "#items = {'item1': 10, 'item2': 20, 'item3': 30, 'item4': 40}\n",
    "items={'item1':10,'item2':20,'item3':30,'item4':40}\n",
    "print(len(items))"
   ]
  },
  {
   "cell_type": "code",
   "execution_count": 75,
   "id": "6abfbd37-a963-4b0c-8d2f-3d6a846029da",
   "metadata": {},
   "outputs": [
    {
     "name": "stdout",
     "output_type": "stream",
     "text": [
      "85\n"
     ]
    }
   ],
   "source": [
    "#13 Given a dictionary, check if the key 'John' exists in it and print the result.\n",
    "#students = {'John': 85, 'Alice': 90, 'Bob': 78}\n",
    "students={'john' : 85, 'alice' : 90 , 'bob' : 78}\n",
    "print(students['john'])"
   ]
  },
  {
   "cell_type": "code",
   "execution_count": 79,
   "id": "e23bd7c2-0aeb-45cf-b6c8-4ede9cedac51",
   "metadata": {},
   "outputs": [
    {
     "name": "stdout",
     "output_type": "stream",
     "text": [
      "12\n"
     ]
    }
   ],
   "source": [
    "#14 Create a dictionary where the values are lists. Access one of the lists and print its first element.\n",
    "dic={\"marks\" : [12,78,56,45], \"grades\":[\"a\",\"b\",\"c\"]}\n",
    "print(dic[\"marks\"][0])     \n"
   ]
  },
  {
   "cell_type": "code",
   "execution_count": 81,
   "id": "6290284b-790f-49e8-8692-e3891160a418",
   "metadata": {},
   "outputs": [
    {
     "ename": "TypeError",
     "evalue": "'tuple' object does not support item assignment",
     "output_type": "error",
     "traceback": [
      "\u001b[1;31m---------------------------------------------------------------------------\u001b[0m",
      "\u001b[1;31mTypeError\u001b[0m                                 Traceback (most recent call last)",
      "Cell \u001b[1;32mIn[81], line 3\u001b[0m\n\u001b[0;32m      1\u001b[0m \u001b[38;5;66;03m#15 Create a tuple and try to change one of its elements (show that it raises an error).\u001b[39;00m\n\u001b[0;32m      2\u001b[0m a\u001b[38;5;241m=\u001b[39m(\u001b[38;5;241m1\u001b[39m, \u001b[38;5;241m6\u001b[39m,\u001b[38;5;241m8\u001b[39m,\u001b[38;5;241m9\u001b[39m)\n\u001b[1;32m----> 3\u001b[0m a[\u001b[38;5;241m1\u001b[39m]\u001b[38;5;241m=\u001b[39m\u001b[38;5;241m8\u001b[39m\n\u001b[0;32m      4\u001b[0m \u001b[38;5;28mprint\u001b[39m(a)\n",
      "\u001b[1;31mTypeError\u001b[0m: 'tuple' object does not support item assignment"
     ]
    }
   ],
   "source": [
    "#15 Create a tuple and try to change one of its elements (show that it raises an error).\n",
    "a=(1, 6,8,9)\n",
    "a[1]=8\n",
    "print(a)"
   ]
  },
  {
   "cell_type": "code",
   "execution_count": 17,
   "id": "300a64ad-767e-40ac-a383-26140488b2ab",
   "metadata": {},
   "outputs": [
    {
     "name": "stdout",
     "output_type": "stream",
     "text": [
      "(1, 2, 3, 4)\n"
     ]
    }
   ],
   "source": [
    "#16 Concatenate two tuples (1, 2) and (3, 4) and print the result\n",
    "tup1=(1,2)\n",
    "tup2=(3,4)\n",
    "print(tup1+tup2)\n",
    "\n"
   ]
  },
  {
   "cell_type": "code",
   "execution_count": null,
   "id": "fd01990d-843e-46a4-b956-ea624db7f80e",
   "metadata": {},
   "outputs": [],
   "source": []
  }
 ],
 "metadata": {
  "kernelspec": {
   "display_name": "Python [conda env:anaconda3] *",
   "language": "python",
   "name": "conda-env-anaconda3-py"
  },
  "language_info": {
   "codemirror_mode": {
    "name": "ipython",
    "version": 3
   },
   "file_extension": ".py",
   "mimetype": "text/x-python",
   "name": "python",
   "nbconvert_exporter": "python",
   "pygments_lexer": "ipython3",
   "version": "3.12.7"
  }
 },
 "nbformat": 4,
 "nbformat_minor": 5
}
