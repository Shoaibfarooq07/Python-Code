{
 "cells": [
  {
   "cell_type": "code",
   "execution_count": 3,
   "id": "6d4b848e-5839-4758-b18e-b23a5ccaf780",
   "metadata": {},
   "outputs": [
    {
     "name": "stdout",
     "output_type": "stream",
     "text": [
      "d\n",
      "a\n",
      "t\n",
      "a\n",
      " \n",
      "s\n",
      "c\n",
      "i\n",
      "e\n",
      "n\n",
      "c\n",
      "e\n"
     ]
    }
   ],
   "source": [
    "#Write a program that iterates through the string \"data science\" and prints each character on a new line.\n",
    "st= \"data science\"\n",
    "for letters in st:\n",
    "    print(letters)"
   ]
  },
  {
   "cell_type": "code",
   "execution_count": 17,
   "id": "ddff8987-d0f8-4db0-a3fd-1c7f5dd854cd",
   "metadata": {},
   "outputs": [
    {
     "name": "stdout",
     "output_type": "stream",
     "text": [
      "a\n",
      "i\n",
      "e\n",
      "e\n",
      "a\n",
      "i\n",
      "number of vowels:6\n"
     ]
    }
   ],
   "source": [
    "#Write a program that counts and prints the number of vowels in the string \"machine learning\".\n",
    "st = \"machine learning\"\n",
    "vowels = ('a','e','i','o','u')\n",
    "count= 0\n",
    "for el in st:\n",
    "    if el in vowels:\n",
    "        count=count+1\n",
    "        print(el)\n",
    "print(f\"number of vowels:{count}\")        \n",
    "        \n",
    "\n",
    "    \n",
    "    "
   ]
  },
  {
   "cell_type": "code",
   "execution_count": 5,
   "id": "2c6921db-659c-4346-951f-1fd5683c2c2c",
   "metadata": {},
   "outputs": [
    {
     "name": "stdout",
     "output_type": "stream",
     "text": [
      "apple\n",
      "banana\n",
      "cherry\n",
      "date\n"
     ]
    }
   ],
   "source": [
    "#Given a list of fruits, [\"apple\", \"banana\", \"cherry\", \"date\"], print each fruit on a new line.\n",
    "mylist=[\"apple\",\"banana\", \"cherry\",\"date\"]\n",
    "for fruits in mylist:\n",
    "    print(fruits)"
   ]
  },
  {
   "cell_type": "code",
   "execution_count": 19,
   "id": "8d08f842-50f1-4054-9568-1471364f4b55",
   "metadata": {},
   "outputs": [
    {
     "name": "stdout",
     "output_type": "stream",
     "text": [
      "6\n",
      "4\n",
      "7\n",
      "7\n"
     ]
    }
   ],
   "source": [
    "#Write a program that prints the length of each word in the list [\"python\", \"data\", \"science\", \"machine\"].\n",
    "list= [\"python\", \"data\", \"science\" , \"machine\"]\n",
    "for chracters in list:\n",
    "    print(len(chracters))\n",
    "\n",
    "\n",
    "\n",
    "    \n",
    "\n"
   ]
  },
  {
   "cell_type": "code",
   "execution_count": 25,
   "id": "ba183e75-555b-4824-981b-374c574426c9",
   "metadata": {},
   "outputs": [
    {
     "name": "stdout",
     "output_type": "stream",
     "text": [
      "Python\n",
      "Data\n",
      "Science\n",
      "Machine\n"
     ]
    }
   ],
   "source": [
    "#Write a program that capitalizes the first letter of each word in the list [\"python\", \"data\", \"science\", \"machine\"].\n",
    "list=[\"python\" , \"data\" , \"science\" , \"machine\"]\n",
    "for letter in list:\n",
    "    print(letter.capitalize())\n",
    "    "
   ]
  },
  {
   "cell_type": "code",
   "execution_count": 29,
   "id": "4d5709e5-d001-4bef-b9dd-62fc448b9045",
   "metadata": {},
   "outputs": [
    {
     "name": "stdout",
     "output_type": "stream",
     "text": [
      "30\n"
     ]
    }
   ],
   "source": [
    "#Write a program that calculates the sum of the list [2, 4, 6, 8, 10].\n",
    "list=[2,4,6,8,10]\n",
    "sum= 0\n",
    "for num in list:\n",
    "    sum=sum+num\n",
    "print(sum)    \n"
   ]
  },
  {
   "cell_type": "code",
   "execution_count": 9,
   "id": "94894463-891d-40ca-9959-348ad2eb69a8",
   "metadata": {},
   "outputs": [
    {
     "name": "stdout",
     "output_type": "stream",
     "text": [
      "2\n",
      "4\n",
      "6\n",
      "8\n",
      "10\n"
     ]
    }
   ],
   "source": [
    "#Given a list [1, 2, 3, 4, 5, 6, 7, 8, 9, 10], print only the even numbers.\n",
    "list= [1,2,3,4,5,6,7,8,9,10]\n",
    "for num in list:\n",
    "    if num%2==0:\n",
    "        print(num)"
   ]
  },
  {
   "cell_type": "code",
   "execution_count": 5,
   "id": "a4eeb279-0e1b-4cfc-ac65-4cb9f8153079",
   "metadata": {},
   "outputs": [
    {
     "name": "stdout",
     "output_type": "stream",
     "text": [
      "2450\n"
     ]
    }
   ],
   "source": [
    "sum=0\n",
    "for num in range(1,100):\n",
    "    if num%2==0:\n",
    "      sum=sum+num\n",
    "print(sum)    "
   ]
  },
  {
   "cell_type": "code",
   "execution_count": null,
   "id": "b8dc464e-d5b9-404a-938b-333727699cbc",
   "metadata": {},
   "outputs": [],
   "source": []
  }
 ],
 "metadata": {
  "kernelspec": {
   "display_name": "Python [conda env:anaconda3] *",
   "language": "python",
   "name": "conda-env-anaconda3-py"
  },
  "language_info": {
   "codemirror_mode": {
    "name": "ipython",
    "version": 3
   },
   "file_extension": ".py",
   "mimetype": "text/x-python",
   "name": "python",
   "nbconvert_exporter": "python",
   "pygments_lexer": "ipython3",
   "version": "3.12.7"
  }
 },
 "nbformat": 4,
 "nbformat_minor": 5
}
