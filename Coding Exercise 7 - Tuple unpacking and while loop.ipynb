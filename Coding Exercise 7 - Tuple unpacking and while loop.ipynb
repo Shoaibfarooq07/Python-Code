{
 "cells": [
  {
   "cell_type": "code",
   "execution_count": 11,
   "id": "07114957-bae4-49c4-96ff-e0251972a9f8",
   "metadata": {},
   "outputs": [
    {
     "name": "stdout",
     "output_type": "stream",
     "text": [
      "3\n",
      "7\n",
      "11\n"
     ]
    }
   ],
   "source": [
    "#You have a list of tuples, where each tuple contains two numbers. Use tuple unpacking and a for loop to \n",
    "#iterate through the list and print the sum of the two numbers in each tuple.\n",
    "#pairs = [(1, 2), (3, 4), (5, 6)]\n",
    "pairs=[(1,2),(3,4),(5,6)]\n",
    "for(a,b)in pairs:\n",
    "    r=a+b\n",
    "    print(r)\n",
    "    \n",
    "    \n",
    "  "
   ]
  },
  {
   "cell_type": "code",
   "execution_count": 1,
   "id": "087c7316-caf8-4f4a-b93b-5f1642b165d4",
   "metadata": {},
   "outputs": [
    {
     "name": "stdout",
     "output_type": "stream",
     "text": [
      "Point: 1, 1\n",
      "Point: 2, 3\n",
      "Point: 5, 8\n"
     ]
    }
   ],
   "source": [
    "#Given a list of tuples representing coordinates (x, y), use a for loop and tuple unpacking to iterate through the list \n",
    "#and print each coordinate in the format: \"Point: x, y\".\n",
    "#coordinates = [(1, 1), (2, 3), (5, 8)]\n",
    "\n",
    "coordinates = [(1, 1), (2, 3), (5, 8)]\n",
    "\n",
    "for x, y in coordinates:\n",
    "    print(f\"Point: {x}, {y}\")\n"
   ]
  },
  {
   "cell_type": "code",
   "execution_count": 53,
   "id": "97fb9a3b-36c4-44c7-abc0-94b082a1d73a",
   "metadata": {},
   "outputs": [
    {
     "name": "stdout",
     "output_type": "stream",
     "text": [
      "2.5\n"
     ]
    }
   ],
   "source": [
    "#You have a list of tuples where each tuple contains a product name and its price. Use a for loop and tuple unpacking to \n",
    "#calculate and print the total cost of all products.\n",
    "#items = [(\"apple\", 1.2), (\"banana\", 0.5), (\"orange\", 0.8)]\n",
    "items=[(\"apple\", 1.2), (\"banana\" , 0.5) , (\"orange\" , 0.8)]\n",
    "r = 0\n",
    "\n",
    "for a, b in items:\n",
    "    r=r+b\n",
    "print(r)    \n",
    "    \n",
    "    \n",
    "    \n",
    "    "
   ]
  },
  {
   "cell_type": "code",
   "execution_count": 39,
   "id": "b19ac4e0-5c57-438a-a6da-9fa015fc7fbf",
   "metadata": {},
   "outputs": [
    {
     "name": "stdout",
     "output_type": "stream",
     "text": [
      "7\n",
      "9\n",
      "8\n"
     ]
    }
   ],
   "source": [
    "#You have a list of tuples where each tuple contains three numbers. Use a for loop and tuple unpacking\n",
    "#to print the maximum of the three numbers in each tuple.\n",
    "#triplets = [(5, 7, 2), (9, 3, 6), (4, 8, 1)]\n",
    "triplets = [(5 ,7,2) , (9 , 3, 6), (4, 8, 1)]\n",
    "for a,b,c in triplets:\n",
    "    print(max(a,b,c))"
   ]
  },
  {
   "cell_type": "code",
   "execution_count": 65,
   "id": "bd305350-dcd9-4d4a-9d87-e3fadf1718f9",
   "metadata": {},
   "outputs": [
    {
     "name": "stdout",
     "output_type": "stream",
     "text": [
      "alice\n",
      "charlie\n"
     ]
    }
   ],
   "source": [
    "#Create a list of tuples with two elements each: the name of a student and their grade.\n",
    "#Use a for loop and tuple unpacking to find and print the name(s) of students who scored above a certain grade threshold.\n",
    "#students = [(\"Alice\", 85), (\"Bob\", 78), (\"Charlie\", 92)]\n",
    "#threshold = 80\n",
    "students= [(\"alice\",85), (\"bob\", 78) , (\"charlie\", 92)]\n",
    "for a,b in students:\n",
    "    if b>80:\n",
    "        print(a)\n",
    "    "
   ]
  },
  {
   "cell_type": "code",
   "execution_count": null,
   "id": "9828eb50-82ea-4732-b53b-94f364d7d5fd",
   "metadata": {},
   "outputs": [],
   "source": []
  }
 ],
 "metadata": {
  "kernelspec": {
   "display_name": "Python [conda env:anaconda3] *",
   "language": "python",
   "name": "conda-env-anaconda3-py"
  },
  "language_info": {
   "codemirror_mode": {
    "name": "ipython",
    "version": 3
   },
   "file_extension": ".py",
   "mimetype": "text/x-python",
   "name": "python",
   "nbconvert_exporter": "python",
   "pygments_lexer": "ipython3",
   "version": "3.12.7"
  }
 },
 "nbformat": 4,
 "nbformat_minor": 5
}
