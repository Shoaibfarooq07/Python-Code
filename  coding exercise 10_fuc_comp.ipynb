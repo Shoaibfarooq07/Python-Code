{
 "cells": [
  {
   "cell_type": "code",
   "execution_count": 1,
   "id": "57cd2ce2-7443-47f3-baa8-b557c3e0b43f",
   "metadata": {},
   "outputs": [],
   "source": [
    "#user define function:"
   ]
  },
  {
   "cell_type": "code",
   "execution_count": 2,
   "id": "e36fa8fe-7195-41be-84fd-284f20a747da",
   "metadata": {},
   "outputs": [
    {
     "name": "stdout",
     "output_type": "stream",
     "text": [
      "46\n",
      "68\n",
      "123\n",
      "123\n"
     ]
    },
    {
     "data": {
      "text/plain": [
       "123"
      ]
     },
     "execution_count": 2,
     "metadata": {},
     "output_type": "execute_result"
    }
   ],
   "source": [
    "def calc_sum(a,b):\n",
    "    sum_=a+b\n",
    "    print(sum_)\n",
    "    return sum_\n",
    "\n",
    "calc_sum(12,34)\n",
    "\n",
    "calc_sum(12,56)\n",
    "\n",
    "calc_sum(34,89)\n",
    "calc_sum(34,89)"
   ]
  },
  {
   "cell_type": "raw",
   "id": "d57a650c-3d8d-40d3-87fb-9b7c831e4f81",
   "metadata": {
    "collapsed": true,
    "jupyter": {
     "outputs_hidden": true
    }
   },
   "source": [
    "def calc_(a,b):\n",
    "    x=a*b\n",
    "    print(x)\n",
    "    \n",
    "\n",
    "calc_(45,78)"
   ]
  },
  {
   "cell_type": "code",
   "execution_count": 3,
   "id": "b05a9234-feb0-4dae-b4db-01a3bfc7f638",
   "metadata": {},
   "outputs": [
    {
     "name": "stdout",
     "output_type": "stream",
     "text": [
      "4005\n"
     ]
    },
    {
     "data": {
      "text/plain": [
       "1794"
      ]
     },
     "execution_count": 3,
     "metadata": {},
     "output_type": "execute_result"
    }
   ],
   "source": [
    "def sum_1(a,c):\n",
    "    return(a*c)\n",
    "ser=sum_1(45,89)\n",
    "print(ser)\n",
    "\n",
    "sum_1(23,78)\n"
   ]
  },
  {
   "cell_type": "code",
   "execution_count": 4,
   "id": "3173e5f8-7d82-45ee-8973-6410e55d1d2f",
   "metadata": {},
   "outputs": [
    {
     "name": "stdout",
     "output_type": "stream",
     "text": [
      "2.0\n"
     ]
    }
   ],
   "source": [
    "def average_(a,b,c):\n",
    "    r=a+b+c\n",
    "    v=r / 3\n",
    "    print(v)\n",
    "\n",
    "average_(1,2,3)"
   ]
  },
  {
   "cell_type": "code",
   "execution_count": 5,
   "id": "dfa167e6-922b-4abd-a19b-b6e65c4abebe",
   "metadata": {},
   "outputs": [
    {
     "name": "stdout",
     "output_type": "stream",
     "text": [
      "2.0\n",
      "43.0\n"
     ]
    }
   ],
   "source": [
    "def average_(a,b,c):\n",
    "    r=(a+b+c)/3\n",
    "    print(r)\n",
    "\n",
    "average_(1,2,3) \n",
    "\n",
    "average_(34,89,6)"
   ]
  },
  {
   "cell_type": "code",
   "execution_count": 6,
   "id": "2a1818ac-b412-494a-be59-38cd8850ae2a",
   "metadata": {},
   "outputs": [
    {
     "name": "stdout",
     "output_type": "stream",
     "text": [
      "no is even\n"
     ]
    }
   ],
   "source": [
    "def even_odd(num):\n",
    "    if num%2==0:\n",
    "        print(\"no is even\")\n",
    "    else:\n",
    "        print(\"no is odd\")\n",
    "    \n",
    "\n",
    "even_odd(56890)\n"
   ]
  },
  {
   "cell_type": "code",
   "execution_count": 7,
   "id": "60eb9ee2-0e55-4d05-9c42-6ee9d3361d91",
   "metadata": {},
   "outputs": [
    {
     "name": "stdout",
     "output_type": "stream",
     "text": [
      "shoaib$farooq\n"
     ]
    }
   ],
   "source": [
    "print(\"shoaib\",end=\"$\")\n",
    "print(\"farooq\")"
   ]
  },
  {
   "cell_type": "code",
   "execution_count": 8,
   "id": "9a43282e-3d72-4004-930f-4a6e7476da04",
   "metadata": {},
   "outputs": [
    {
     "name": "stdout",
     "output_type": "stream",
     "text": [
      "thor iron man capitan america delhi mumbai pune himachal "
     ]
    }
   ],
   "source": [
    "list_1=[\"delhi\",\"mumbai\",\"pune\",\"himachal\"]\n",
    "list_2=[\"thor\",\"iron man\",\"capitan america\"]\n",
    "\n",
    "def len_(list_):\n",
    "    print(len(list_))\n",
    "\n",
    "def lis_(list_8):\n",
    "    for el in list_8:\n",
    "        print(el,end=\" \")\n",
    "\n",
    "lis_(list_2)\n",
    "\n",
    "lis_(list_1)"
   ]
  },
  {
   "cell_type": "code",
   "execution_count": 9,
   "id": "2923d23f-c5c0-4863-93d7-97cf422a684e",
   "metadata": {},
   "outputs": [
    {
     "name": "stdout",
     "output_type": "stream",
     "text": [
      "3628800\n",
      "120\n"
     ]
    }
   ],
   "source": [
    "def cal_fact(n):\n",
    "    fact=1\n",
    "    for i in range(1,n+1):\n",
    "        fact=fact*i\n",
    "    print(fact)\n",
    "\n",
    "cal_fact(10)\n",
    "\n",
    "cal_fact(5)"
   ]
  },
  {
   "cell_type": "code",
   "execution_count": 10,
   "id": "cc934a20-25b4-4201-bf5b-d00f22a23a0b",
   "metadata": {},
   "outputs": [
    {
     "name": "stdout",
     "output_type": "stream",
     "text": [
      "no is even\n",
      "no is odd\n",
      "no is even\n"
     ]
    }
   ],
   "source": [
    "def even_odd(x):\n",
    "    if x%2==0:\n",
    "        print(\"no is even\")\n",
    "    else:\n",
    "        print(\"no is odd\")\n",
    "\n",
    "even_odd(6)\n",
    "\n",
    "even_odd(7)\n",
    "\n",
    "even_odd(4)"
   ]
  },
  {
   "cell_type": "code",
   "execution_count": 11,
   "id": "ce8b8e5f-42ca-4526-bd78-63e94cf8af76",
   "metadata": {},
   "outputs": [
    {
     "name": "stdout",
     "output_type": "stream",
     "text": [
      "even 12\n",
      "odd 3\n",
      "even 4\n",
      "odd 5\n",
      "even 6\n",
      "odd 7\n"
     ]
    }
   ],
   "source": [
    "list_5=[12,3,4,5,6,7]\n",
    "def check_even(list):\n",
    "    for el in list:\n",
    "        if el%2==0:\n",
    "            print(\"even\",el)\n",
    "        else:\n",
    "            print(\"odd\",el)\n",
    "\n",
    "check_even(list_5)"
   ]
  },
  {
   "cell_type": "code",
   "execution_count": 12,
   "id": "18b03b54-25ac-41b4-930d-167e95ab1435",
   "metadata": {},
   "outputs": [
    {
     "name": "stdout",
     "output_type": "stream",
     "text": [
      "5*1=5\n",
      "5*2=10\n",
      "5*3=15\n",
      "5*4=20\n",
      "5*5=25\n",
      "5*6=30\n",
      "5*7=35\n",
      "5*8=40\n",
      "5*9=45\n",
      "5*10=50\n",
      "10*1=10\n",
      "10*2=20\n",
      "10*3=30\n",
      "10*4=40\n",
      "10*5=50\n",
      "10*6=60\n",
      "10*7=70\n",
      "10*8=80\n",
      "10*9=90\n",
      "10*10=100\n"
     ]
    }
   ],
   "source": [
    "def multi_table(n):\n",
    "    for i in range(1,11):\n",
    "        print(f\"{n}*{i}={n*i}\")\n",
    "\n",
    "multi_table(5)        \n",
    "\n",
    "multi_table(10)\n",
    "        "
   ]
  },
  {
   "cell_type": "code",
   "execution_count": 13,
   "id": "579811ed-60ef-47a0-b51a-a954518dba5e",
   "metadata": {},
   "outputs": [
    {
     "name": "stdout",
     "output_type": "stream",
     "text": [
      "45\n"
     ]
    }
   ],
   "source": [
    "def my_function(x,y,z):\n",
    "    if z==True:\n",
    "        return x\n",
    "    elif z==False:\n",
    "        return y\n",
    "\n",
    "r=my_function(12,45,False)\n",
    "print(r)        "
   ]
  },
  {
   "cell_type": "code",
   "execution_count": 14,
   "id": "6123fb10-e844-4aed-a185-e689e2a39402",
   "metadata": {},
   "outputs": [
    {
     "data": {
      "text/plain": [
       "'false'"
      ]
     },
     "execution_count": 14,
     "metadata": {},
     "output_type": "execute_result"
    }
   ],
   "source": [
    "def is_greater (a,b):\n",
    "    if a>b:\n",
    "        return(\"true\")\n",
    "    else:\n",
    "        return(\"false\")\n",
    "is_greater (34,56)            "
   ]
  },
  {
   "cell_type": "code",
   "execution_count": 15,
   "id": "aa33a5e0-650d-4778-bc8b-5002cc9e4fb2",
   "metadata": {},
   "outputs": [
    {
     "name": "stdout",
     "output_type": "stream",
     "text": [
      "38.333333333333336celsius\n"
     ]
    }
   ],
   "source": [
    "def fahren_(fahrenheit):\n",
    "    celsius = (fahrenheit - 32) * 5 / 9\n",
    "    return celsius\n",
    "\n",
    "x = fahren_(101)\n",
    "print(f\"{x}celsius\")\n"
   ]
  },
  {
   "cell_type": "code",
   "execution_count": 16,
   "id": "6a529365-cc12-423e-a33b-5fd29c560a12",
   "metadata": {},
   "outputs": [
    {
     "name": "stdin",
     "output_type": "stream",
     "text": [
      "enter the number  78\n"
     ]
    },
    {
     "name": "stdout",
     "output_type": "stream",
     "text": [
      "200.45999999999998cm\n"
     ]
    }
   ],
   "source": [
    "s = int(input (\"enter the number \"))\n",
    "r= s*2.57\n",
    "print(f\"{r}cm\")\n",
    "        "
   ]
  },
  {
   "cell_type": "code",
   "execution_count": 17,
   "id": "1ff2822d-73f1-49e5-b591-3aab2f298048",
   "metadata": {},
   "outputs": [
    {
     "data": {
      "text/plain": [
       "59.11"
      ]
     },
     "execution_count": 17,
     "metadata": {},
     "output_type": "execute_result"
    }
   ],
   "source": [
    "def inches_to_cm(inches):\n",
    "    return inches*2.57\n",
    "\n",
    "inches_to_cm(23)"
   ]
  },
  {
   "cell_type": "code",
   "execution_count": 18,
   "id": "229f9ed3-9e65-4ca8-b7aa-cc60e5e50ec1",
   "metadata": {},
   "outputs": [
    {
     "name": "stdin",
     "output_type": "stream",
     "text": [
      "enter the american currency $ 7\n"
     ]
    },
    {
     "name": "stdout",
     "output_type": "stream",
     "text": [
      "rs581\n"
     ]
    }
   ],
   "source": [
    "r = int(input(\"enter the american currency $\"))\n",
    "s = r*83\n",
    "print(f\"rs{s}\")\n",
    "        "
   ]
  },
  {
   "cell_type": "code",
   "execution_count": 19,
   "id": "fa5d76d2-f3d5-4405-8424-bbef15391e25",
   "metadata": {},
   "outputs": [
    {
     "name": "stdout",
     "output_type": "stream",
     "text": [
      "number is even\n",
      "number is odd\n"
     ]
    }
   ],
   "source": [
    "def even_odd(n):\n",
    "    if n%2==0:\n",
    "        print(\"number is even\")\n",
    "    else:\n",
    "        print(\"number is odd\")\n",
    "\n",
    "even_odd(1096)\n",
    "\n",
    "even_odd(1111)"
   ]
  },
  {
   "cell_type": "code",
   "execution_count": 20,
   "id": "ad09f326-e7a5-4a50-9fac-73720995f52e",
   "metadata": {},
   "outputs": [
    {
     "name": "stdout",
     "output_type": "stream",
     "text": [
      "5\n",
      "4\n"
     ]
    }
   ],
   "source": [
    "def show(n):\n",
    "    if (n==0):\n",
    "        return\n",
    "    print(n)\n",
    "    print(n-1)\n",
    "\n",
    "show(5)\n",
    "    "
   ]
  },
  {
   "cell_type": "code",
   "execution_count": 21,
   "id": "695e171d-7fb0-437b-bdaf-48731d6de818",
   "metadata": {},
   "outputs": [
    {
     "name": "stdout",
     "output_type": "stream",
     "text": [
      "number is odd 1\n",
      "number is even 2\n",
      "number is odd 3\n",
      "number is even 4\n",
      "number is odd 5\n"
     ]
    }
   ],
   "source": [
    "list_1=[1,2,3,4,5]\n",
    "for el in list_1:\n",
    "    if el%2==0:\n",
    "        print(\"number is even\",el)\n",
    "    else:\n",
    "        print(\"number is odd\",el)"
   ]
  },
  {
   "cell_type": "code",
   "execution_count": 22,
   "id": "6e6a73b1-da8e-4a7f-b240-5a374009d975",
   "metadata": {},
   "outputs": [
    {
     "name": "stdout",
     "output_type": "stream",
     "text": [
      "100\n",
      "99\n",
      "98\n",
      "97\n",
      "96\n",
      "95\n",
      "94\n",
      "93\n",
      "92\n",
      "91\n",
      "90\n",
      "89\n",
      "88\n",
      "87\n",
      "86\n",
      "85\n",
      "84\n",
      "83\n",
      "82\n",
      "81\n",
      "80\n",
      "79\n",
      "78\n",
      "77\n",
      "76\n",
      "75\n",
      "74\n",
      "73\n",
      "72\n",
      "71\n",
      "70\n",
      "69\n",
      "68\n",
      "67\n",
      "66\n",
      "65\n",
      "64\n",
      "63\n",
      "62\n",
      "61\n",
      "60\n",
      "59\n",
      "58\n",
      "57\n",
      "56\n",
      "55\n",
      "54\n",
      "53\n",
      "52\n",
      "51\n",
      "50\n",
      "49\n",
      "48\n",
      "47\n",
      "46\n",
      "45\n",
      "44\n",
      "43\n",
      "42\n",
      "41\n",
      "40\n",
      "39\n",
      "38\n",
      "37\n",
      "36\n",
      "35\n",
      "34\n",
      "33\n",
      "32\n",
      "31\n",
      "30\n",
      "29\n",
      "28\n",
      "27\n",
      "26\n",
      "25\n",
      "24\n",
      "23\n",
      "22\n",
      "21\n",
      "20\n",
      "19\n",
      "18\n",
      "17\n",
      "16\n",
      "15\n",
      "14\n",
      "13\n",
      "12\n",
      "11\n",
      "10\n",
      "9\n",
      "8\n",
      "7\n",
      "6\n",
      "5\n",
      "4\n",
      "3\n",
      "2\n",
      "1\n"
     ]
    }
   ],
   "source": [
    "for i in range (100,0,-1):\n",
    "    print(i)"
   ]
  },
  {
   "cell_type": "code",
   "execution_count": 23,
   "id": "387d1125-91b8-4c48-88c6-231723af6999",
   "metadata": {},
   "outputs": [
    {
     "name": "stdout",
     "output_type": "stream",
     "text": [
      "[1, 2, 3, 4, 5]\n"
     ]
    }
   ],
   "source": [
    "#list comprehension:\n",
    "numbers = [ x for x in range(1,6)]\n",
    "print(numbers)"
   ]
  },
  {
   "cell_type": "code",
   "execution_count": 24,
   "id": "7793166d-da52-4e23-9475-3973f639d031",
   "metadata": {},
   "outputs": [
    {
     "name": "stdout",
     "output_type": "stream",
     "text": [
      "[0, 1, 4, 9, 16]\n"
     ]
    }
   ],
   "source": [
    "numbers = [x**2   for x in range(5)]\n",
    "print(numbers)"
   ]
  },
  {
   "cell_type": "code",
   "execution_count": 25,
   "id": "13539e12-4bc2-4fe8-828f-984f1c998d0b",
   "metadata": {},
   "outputs": [
    {
     "name": "stdout",
     "output_type": "stream",
     "text": [
      "['h', 'e', 'l', 'l', 'o']\n"
     ]
    }
   ],
   "source": [
    "letter = \"hello\"\n",
    "mylist=[ i   for i in letter]\n",
    "print(mylist)"
   ]
  },
  {
   "cell_type": "code",
   "execution_count": 26,
   "id": "960116e4-cf52-43e4-a65d-deb04167379c",
   "metadata": {},
   "outputs": [
    {
     "name": "stdout",
     "output_type": "stream",
     "text": [
      "[1, 2, 3, 4, 5, 6, 7, 8, 9, 10]\n"
     ]
    }
   ],
   "source": [
    "mylist = [ i  for i in range (1,11)]\n",
    "print(mylist)"
   ]
  },
  {
   "cell_type": "code",
   "execution_count": 27,
   "id": "5beec4a3-f817-4cc9-935c-db903690f359",
   "metadata": {},
   "outputs": [
    {
     "name": "stdout",
     "output_type": "stream",
     "text": [
      "[2, 4, 6, 8, 10]\n"
     ]
    }
   ],
   "source": [
    "mylist_1=[num  for num in range (1,11) if num%2==0]\n",
    "print(mylist_1)"
   ]
  },
  {
   "cell_type": "code",
   "execution_count": 28,
   "id": "87799e3d-e936-4a36-b78a-dc6d62c8f1a0",
   "metadata": {},
   "outputs": [
    {
     "name": "stdout",
     "output_type": "stream",
     "text": [
      "[1, 3, 5, 7, 9, 11]\n"
     ]
    }
   ],
   "source": [
    "mylist_2=[num  for num in range (1,12) if num%2!=0]\n",
    "print(mylist_2)"
   ]
  },
  {
   "cell_type": "code",
   "execution_count": 29,
   "id": "8de97ff4-dccd-4f38-b1c2-33523e25cd6b",
   "metadata": {},
   "outputs": [
    {
     "name": "stdout",
     "output_type": "stream",
     "text": [
      "['PYTHON', 'SHAOIB', 'JAVA', 'C++']\n"
     ]
    }
   ],
   "source": [
    "word=[\"python\", \"shaoib\", \"java\", \"c++\"]\n",
    "word_1=[ i.upper()    for i in word]\n",
    "print(word_1)"
   ]
  },
  {
   "cell_type": "code",
   "execution_count": 58,
   "id": "6211b021-7891-420e-a118-134fd37888b8",
   "metadata": {},
   "outputs": [
    {
     "name": "stdout",
     "output_type": "stream",
     "text": [
      "[' even', 'odd', ' even', 'odd', ' even', 'odd', ' even', 'odd', ' even', 'odd']\n"
     ]
    }
   ],
   "source": [
    "zrr = [\" even\"  if x%2==0 else \"odd\" for x in range (10)]\n",
    "print(zrr)"
   ]
  },
  {
   "cell_type": "code",
   "execution_count": 31,
   "id": "f0adf87a-fe6e-4ecb-8fb6-e282dd8b6fd2",
   "metadata": {},
   "outputs": [
    {
     "name": "stdout",
     "output_type": "stream",
     "text": [
      "[1, 2, 3, 4, 5, 6, 7, 8]\n"
     ]
    }
   ],
   "source": [
    "nested_list = [[1, 2, 3], [4, 5], [6, 7, 8]]\n",
    "list_1=[]\n",
    "for sublist in nested_list:\n",
    "    for num in sublist:\n",
    "        \n",
    "        list_1.append(num)\n",
    "print(list_1)\n"
   ]
  },
  {
   "cell_type": "code",
   "execution_count": 32,
   "id": "4489b498-f7cf-41ca-be56-7c798d5aca24",
   "metadata": {},
   "outputs": [
    {
     "name": "stdout",
     "output_type": "stream",
     "text": [
      "{0: 0, 1: 1, 2: 4, 3: 9, 4: 16}\n"
     ]
    }
   ],
   "source": [
    "square_dict={x:x**2 for x in range (5)}\n",
    "print(square_dict)"
   ]
  },
  {
   "cell_type": "code",
   "execution_count": 34,
   "id": "a3b8b555-2ae5-4936-afcf-9e6810062720",
   "metadata": {},
   "outputs": [
    {
     "name": "stdout",
     "output_type": "stream",
     "text": [
      "['john@example.com', 'alice@example.net', 'bob@example.org']\n"
     ]
    }
   ],
   "source": [
    "data = [\"john@example.com\", \"hello\", \"alice@example.net\", \"12345\", \"bob@example.org\"]\n",
    "email=[ item for item in data if \"@\" in item and \".\" in item]\n",
    "print(email)"
   ]
  },
  {
   "cell_type": "code",
   "execution_count": 38,
   "id": "b0b1e3aa-d66b-4c92-99d3-91969dd09262",
   "metadata": {},
   "outputs": [
    {
     "name": "stdout",
     "output_type": "stream",
     "text": [
      "[1, 2, 3, 4, 5, 6]\n"
     ]
    }
   ],
   "source": [
    "numbers = [1, 2, 3, 2, 4, 5, 3, 6, 1]\n",
    "converter=list(set(numbers))\n",
    "print(converter)"
   ]
  },
  {
   "cell_type": "code",
   "execution_count": 40,
   "id": "7a595fdb-64a0-404d-81f6-f879596d0e47",
   "metadata": {},
   "outputs": [
    {
     "name": "stdout",
     "output_type": "stream",
     "text": [
      "['1', '2', '3', '4', '5', '2', '0', '2', '5']\n"
     ]
    }
   ],
   "source": [
    "text = \"Order #1234 was placed on 5th March, 2025!\"\n",
    "digits = [char for char in text if char.isdigit()]\n",
    "print(digits)"
   ]
  },
  {
   "cell_type": "code",
   "execution_count": 46,
   "id": "c8efae0c-f72c-46ad-bbc9-b8a0232e93e0",
   "metadata": {},
   "outputs": [
    {
     "name": "stdout",
     "output_type": "stream",
     "text": [
      "[1, 20, 5, 42]\n"
     ]
    }
   ],
   "source": [
    "string_numbers = [\"1\", \"20\", \"5\", \"42\"]\n",
    "convert=[int( num )  for num in string_numbers]\n",
    "print(convert)"
   ]
  },
  {
   "cell_type": "code",
   "execution_count": 56,
   "id": "49907a53-7c12-4c14-96e4-cec9d0299b93",
   "metadata": {},
   "outputs": [
    {
     "name": "stdout",
     "output_type": "stream",
     "text": [
      "['example.com', 'company.org', 'service.net']\n"
     ]
    }
   ],
   "source": [
    "emails = [\"john@example.com\", \"alice@company.org\", \"bob@service.net\"]\n",
    "domain = [ email.split(\"@\")[1] for email in emails]  \n",
    "print(domain)"
   ]
  },
  {
   "cell_type": "code",
   "execution_count": null,
   "id": "b0e8ed4f-9839-4645-af59-1e0b15416f5e",
   "metadata": {},
   "outputs": [],
   "source": []
  }
 ],
 "metadata": {
  "kernelspec": {
   "display_name": "Python [conda env:anaconda3] *",
   "language": "python",
   "name": "conda-env-anaconda3-py"
  },
  "language_info": {
   "codemirror_mode": {
    "name": "ipython",
    "version": 3
   },
   "file_extension": ".py",
   "mimetype": "text/x-python",
   "name": "python",
   "nbconvert_exporter": "python",
   "pygments_lexer": "ipython3",
   "version": "3.12.7"
  }
 },
 "nbformat": 4,
 "nbformat_minor": 5
}
