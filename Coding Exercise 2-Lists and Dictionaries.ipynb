{
 "cells": [
  {
   "cell_type": "code",
   "execution_count": 35,
   "id": "6cacdef6-0ad3-4f25-a875-1f1fd1762ca7",
   "metadata": {},
   "outputs": [
    {
     "name": "stdout",
     "output_type": "stream",
     "text": [
      "150\n"
     ]
    }
   ],
   "source": [
    "#Write a program that adds the numbers 10, 20, 30, 40, and 50 together and prints the result.\n",
    "a=[10,20,30,40,50]\n",
    "print(sum(a))"
   ]
  },
  {
   "cell_type": "code",
   "execution_count": 17,
   "id": "e955f1cc-bf4f-43ee-988b-5e99f14dea7d",
   "metadata": {},
   "outputs": [
    {
     "name": "stdout",
     "output_type": "stream",
     "text": [
      "192\n"
     ]
    }
   ],
   "source": [
    "#Multiply the numbers 4, 6, and 8, and print the result using other variable\n",
    "a=(4)\n",
    "b=(6)\n",
    "c=(8)\n",
    "print(a*b*c)"
   ]
  },
  {
   "cell_type": "code",
   "execution_count": 3,
   "id": "17d86a68-aa25-4332-8282-695560f9b383",
   "metadata": {},
   "outputs": [
    {
     "name": "stdout",
     "output_type": "stream",
     "text": [
      "datascience\n"
     ]
    }
   ],
   "source": [
    "#Concatenate the strings \"Data\" and \"Science\" and print the result.\n",
    "a=\"data\"\n",
    "b=\"science\"\n",
    "print(a+b)"
   ]
  },
  {
   "cell_type": "code",
   "execution_count": 41,
   "id": "d0c1b1ea-0cc6-466b-a65a-0f67e80825f2",
   "metadata": {},
   "outputs": [
    {
     "name": "stdout",
     "output_type": "stream",
     "text": [
      "18\n"
     ]
    }
   ],
   "source": [
    "#Count the number of characters (including spaces) in the string \"Python programming\".\n",
    "a=\"python programming\"\n",
    "print(len(a))\n"
   ]
  },
  {
   "cell_type": "code",
   "execution_count": 5,
   "id": "584b0591-85fd-4d29-a3ec-cdfa7dc5c685",
   "metadata": {},
   "outputs": [
    {
     "name": "stdout",
     "output_type": "stream",
     "text": [
      "6\n"
     ]
    }
   ],
   "source": [
    "#Create a list with the numbers [2, 4, 6, 8, 10] and print the third number in the list.\n",
    "a=[2,4,6,8,10]\n",
    "print(a[2])"
   ]
  },
  {
   "cell_type": "code",
   "execution_count": 7,
   "id": "13e043d9-996d-4e1c-9b99-67df1c555424",
   "metadata": {},
   "outputs": [
    {
     "name": "stdout",
     "output_type": "stream",
     "text": [
      "[125]\n"
     ]
    }
   ],
   "source": [
    "#Given a list [5, 15, 25, 35, 45], find the sum of all elements in the list.\n",
    "a=[5+15+25+35+45]\n",
    "print(a)"
   ]
  },
  {
   "cell_type": "code",
   "execution_count": 13,
   "id": "1d437dc3-111f-4acb-a6b1-18be4b387423",
   "metadata": {},
   "outputs": [
    {
     "name": "stdout",
     "output_type": "stream",
     "text": [
      "25\n"
     ]
    }
   ],
   "source": [
    "#Given the dictionary {\"name\": \"Alice\", \"age\": 25, \"city\": \"New York\"}, print the value associated with the key \"age\".\n",
    "d={\"name\":\"alice\",\"age\":25,\"city\":\"newyork\"}\n",
    "print(d[\"age\"])\n",
    "         "
   ]
  },
  {
   "cell_type": "code",
   "execution_count": 5,
   "id": "fdd7b6cd-eec6-40b7-afa1-c3a835fac99f",
   "metadata": {},
   "outputs": [
    {
     "name": "stdout",
     "output_type": "stream",
     "text": [
      "342\n"
     ]
    }
   ],
   "source": [
    "#Subtract 123 from 456 and print the result using thrid variable\n",
    "a=(123)\n",
    "b=(465)\n",
    "c=(b-a)\n",
    "print(c)"
   ]
  },
  {
   "cell_type": "code",
   "execution_count": 19,
   "id": "d412db54-3d6d-4afb-ba17-decfd7457930",
   "metadata": {},
   "outputs": [
    {
     "name": "stdout",
     "output_type": "stream",
     "text": [
      "hello hello hello \n"
     ]
    }
   ],
   "source": [
    "#Print the string \"Hello\" three times in a row.\n",
    "a=\"hello \"\n",
    "print(a*3)"
   ]
  },
  {
   "cell_type": "code",
   "execution_count": 27,
   "id": "d834d874-581d-423b-b536-93aa50fa847b",
   "metadata": {},
   "outputs": [
    {
     "name": "stdout",
     "output_type": "stream",
     "text": [
      "proram\n"
     ]
    }
   ],
   "source": [
    "#Given the string \"Programming\", print the first 6 characters.\n",
    "s=\"proramming\"\n",
    "print(s[:6])"
   ]
  },
  {
   "cell_type": "code",
   "execution_count": 29,
   "id": "8b87821d-f701-48dc-86f5-dd99eed04428",
   "metadata": {},
   "outputs": [
    {
     "name": "stdout",
     "output_type": "stream",
     "text": [
      "[3, 6]\n"
     ]
    }
   ],
   "source": [
    "#Given the list [3, 6, 9, 12, 15], print the first two elements.\n",
    "a=[3,6,9,12,15]\n",
    "print(a[:2])\n"
   ]
  },
  {
   "cell_type": "code",
   "execution_count": 23,
   "id": "de07363f-3d4b-4dd1-8808-343063b16537",
   "metadata": {},
   "outputs": [
    {
     "name": "stdout",
     "output_type": "stream",
     "text": [
      "[10, 20, 40, 50]\n"
     ]
    }
   ],
   "source": [
    "#Create a list with the numbers [50, 20, 30, 10, 40], sort it in ascending order, and print the sorted list.\n",
    "list=[50,20,10,40]\n",
    "list.sort()\n",
    "print(list)"
   ]
  },
  {
   "cell_type": "code",
   "execution_count": 57,
   "id": "5070bbbd-d0f0-4251-b580-d201c2b4aac1",
   "metadata": {},
   "outputs": [
    {
     "name": "stdout",
     "output_type": "stream",
     "text": [
      "{'name': 'alice', 'age': 25, 'country': 'usa'}\n"
     ]
    }
   ],
   "source": [
    "#Add a new key-value pair \"country\": \"USA\" to the dictionary {\"name\": \"Alice\", \"age\": 25} and print the updated dictionary.\n",
    "x={\"name\":\"alice\",\"age\":25}\n",
    "x[\"country\"]=\"usa\"\n",
    "print(x)  "
   ]
  },
  {
   "cell_type": "code",
   "execution_count": 47,
   "id": "7afcb0dc-edf0-4358-b684-c81d13474c8d",
   "metadata": {},
   "outputs": [
    {
     "name": "stdout",
     "output_type": "stream",
     "text": [
      "53.25\n"
     ]
    }
   ],
   "source": [
    "#Find the average of the numbers 12, 45, 67, and 89.\n",
    "a=(12,45,67,89)\n",
    "print(sum(a)/len(a))"
   ]
  },
  {
   "cell_type": "code",
   "execution_count": 43,
   "id": "54189323-e879-42fd-bef1-812337081fa8",
   "metadata": {},
   "outputs": [
    {
     "name": "stdout",
     "output_type": "stream",
     "text": [
      "{'brand': 'ford', 'model': 'mustang', 'year': 1964}\n"
     ]
    }
   ],
   "source": [
    "#Given the dictionary {\"brand\": \"Ford\", \"model\": \"Mustang\", \"year\": 1964}, print each key and its corresponding value.\n",
    "dic={\"brand\":\"ford\",\"model\":\"mustang\",\"year\":1964}\n",
    "dic.items()\n",
    "print(dic)\n",
    "\n"
   ]
  },
  {
   "cell_type": "code",
   "execution_count": null,
   "id": "8c3495c1-3702-4fd9-b4b0-ddbb74ef4681",
   "metadata": {},
   "outputs": [],
   "source": []
  }
 ],
 "metadata": {
  "kernelspec": {
   "display_name": "Python [conda env:anaconda3] *",
   "language": "python",
   "name": "conda-env-anaconda3-py"
  },
  "language_info": {
   "codemirror_mode": {
    "name": "ipython",
    "version": 3
   },
   "file_extension": ".py",
   "mimetype": "text/x-python",
   "name": "python",
   "nbconvert_exporter": "python",
   "pygments_lexer": "ipython3",
   "version": "3.12.7"
  }
 },
 "nbformat": 4,
 "nbformat_minor": 5
}
