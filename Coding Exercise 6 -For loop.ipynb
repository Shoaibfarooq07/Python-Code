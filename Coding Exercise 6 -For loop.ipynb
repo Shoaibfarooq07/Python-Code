{
 "cells": [
  {
   "cell_type": "code",
   "execution_count": 1,
   "id": "178fdce1-22b9-431e-99b7-c5fa985f9a9e",
   "metadata": {},
   "outputs": [
    {
     "name": "stdin",
     "output_type": "stream",
     "text": [
      "enter the number 80\n"
     ]
    },
    {
     "name": "stdout",
     "output_type": "stream",
     "text": [
      "senior\n"
     ]
    }
   ],
   "source": [
    "x = int(input(\"enter the number\"))\n",
    "\n",
    "if x<13:\n",
    "    print(\"child\")\n",
    "elif x>=13 and x<=19:\n",
    "    print(\"teenager\")\n",
    "elif x>=20 and x<=59:\n",
    "    print(\"adult\")\n",
    "else:\n",
    "    print(\"senior\")"
   ]
  },
  {
   "cell_type": "code",
   "execution_count": 3,
   "id": "0c210fb4-be79-41b3-8eaf-8037495f2cf2",
   "metadata": {},
   "outputs": [
    {
     "name": "stdin",
     "output_type": "stream",
     "text": [
      "enter the age: 24\n",
      "enter the day: Wednesday\n"
     ]
    },
    {
     "name": "stdout",
     "output_type": "stream",
     "text": [
      "movies ticket price with wednesday discount 10$ \n"
     ]
    }
   ],
   "source": [
    "discount=2\n",
    "age = int(input(\"enter the age:\"))\n",
    "day = input(\"enter the day:\")\n",
    "\n",
    "if age>=18 and day==\"Wednesday\":\n",
    "    print(\"movies ticket price with wednesday discount 10$ \")\n",
    "elif age>=18:\n",
    "    print(\"movies ticket price for adults 12 $\")\n",
    "elif age<18 and day==\"Wednesday\":\n",
    "    print(\"movies ticket price for children  with wednesday discount is 6$\")\n",
    "else:\n",
    "    print(\"children movies ticket price is 6$\")   \n",
    "    "
   ]
  },
  {
   "cell_type": "code",
   "execution_count": 5,
   "id": "6317a785-f1eb-44af-a45d-2b374b79ef37",
   "metadata": {},
   "outputs": [
    {
     "name": "stdin",
     "output_type": "stream",
     "text": [
      "enter the age: 34\n",
      "enter the day: monday\n"
     ]
    },
    {
     "name": "stdout",
     "output_type": "stream",
     "text": [
      "price of the movie ticket is 12\n"
     ]
    }
   ],
   "source": [
    "age = int(input(\"enter the age:\"))\n",
    "day = input(\"enter the day:\")\n",
    "\n",
    "price=12 if age>=18 else 8\n",
    "\n",
    "if day==\"wednesday\":\n",
    "    price=price-2\n",
    "\n",
    "print(\"price of the movie ticket is\",price)"
   ]
  },
  {
   "cell_type": "code",
   "execution_count": 1,
   "id": "647a6ff3-f4fe-4bbc-832c-66346aaba93f",
   "metadata": {},
   "outputs": [
    {
     "name": "stdin",
     "output_type": "stream",
     "text": [
      "enter the number: 108\n"
     ]
    },
    {
     "name": "stdout",
     "output_type": "stream",
     "text": [
      "please enter the valid number:\n"
     ]
    }
   ],
   "source": [
    "y = int(input(\"enter the number:\"))\n",
    "if y >= 101:\n",
    "    print(\"please enter the valid number:\")\n",
    "    exit()\n",
    "elif y>=90 and y<=100:\n",
    "    print(\"A grade\")\n",
    "\n",
    "elif y>=80 and y<=89:\n",
    "    print(\"B grade\")\n",
    "\n",
    "elif y>=70 and y<=79:\n",
    "    print(\"C grade\")\n",
    "\n",
    "elif y>=60 and y<=69:\n",
    "    print(\"C grade\")\n",
    "\n",
    "else:\n",
    "    print(\"F grade\")"
   ]
  },
  {
   "cell_type": "code",
   "execution_count": 3,
   "id": "df3d05e8-e2ab-4a96-9fbe-b19eafdeb432",
   "metadata": {},
   "outputs": [
    {
     "name": "stdin",
     "output_type": "stream",
     "text": [
      "enter the fruit name: banana\n",
      "enter the fruit colour green\n"
     ]
    },
    {
     "name": "stdout",
     "output_type": "stream",
     "text": [
      "unripe\n"
     ]
    }
   ],
   "source": [
    "fruit = input(\"enter the fruit name:\")\n",
    "colour = input(\"enter the fruit colour\")\n",
    "\n",
    "if fruit == \"banana\":\n",
    "    if colour == \"green\":\n",
    "        print(\"unripe\")\n",
    "    elif colour == \"yellow\":\n",
    "        print(\"ripe\")\n",
    "    elif colour == \"brown\":\n",
    "        print(\"overipe\")\n",
    "else: \n",
    "    print(\"please enter the valid input\")"
   ]
  },
  {
   "cell_type": "code",
   "execution_count": 5,
   "id": "1f1a6050-f900-47a1-bfb4-97964ec85b59",
   "metadata": {},
   "outputs": [
    {
     "name": "stdin",
     "output_type": "stream",
     "text": [
      "enter the weather : rainy\n"
     ]
    },
    {
     "name": "stdout",
     "output_type": "stream",
     "text": [
      "go read a book\n"
     ]
    }
   ],
   "source": [
    "weather = input(\"enter the weather :\")\n",
    "if weather == \"sunny\":\n",
    "    print(\"go for a walk\")\n",
    "\n",
    "elif weather == \"rainy\":\n",
    "    print(\"go read a book\")\n",
    "\n",
    "elif weather == \"snow\":\n",
    "    print(\"go build a snowman\")\n",
    "\n",
    "else:\n",
    "    print(\"please enter the valid weather\")"
   ]
  },
  {
   "cell_type": "code",
   "execution_count": 11,
   "id": "962ce377-6cda-4a97-8379-747327c203c8",
   "metadata": {},
   "outputs": [
    {
     "name": "stdin",
     "output_type": "stream",
     "text": [
      "enter the distance km: 14\n"
     ]
    },
    {
     "name": "stdout",
     "output_type": "stream",
     "text": [
      "ai recommendation transport bike\n"
     ]
    }
   ],
   "source": [
    "distance = int(input(\"enter the distance km:\"))\n",
    "\n",
    "if distance<3:\n",
    "    transport=\"walk\"\n",
    "\n",
    "elif distance<15:\n",
    "    transport=\"bike\"\n",
    "\n",
    "else:\n",
    "    transport=\"car\"\n",
    "\n",
    "print(\"ai recommendation transport\",transport)"
   ]
  },
  {
   "cell_type": "code",
   "execution_count": 21,
   "id": "7b1fb7a5-1482-4773-8e2c-fcff74426c91",
   "metadata": {},
   "outputs": [
    {
     "name": "stdin",
     "output_type": "stream",
     "text": [
      "enter the coffee size medium\n"
     ]
    },
    {
     "name": "stdout",
     "output_type": "stream",
     "text": [
      "order medium coffee with express shot\n"
     ]
    }
   ],
   "source": [
    "coffee_size=input(\"enter the coffee size\")\n",
    "express_shot = True\n",
    "if express_shot:\n",
    "    coffee = coffee_size +\" \"+ \"coffee with express shot\"\n",
    "else:\n",
    "    coffee = coffee_size + \"coffee\"\n",
    "\n",
    "print(\"order\",coffee)\n",
    "    \n"
   ]
  },
  {
   "cell_type": "code",
   "execution_count": 25,
   "id": "e9d12c1a-a0bf-4f19-9ecb-e0c9b343d5d0",
   "metadata": {},
   "outputs": [
    {
     "name": "stdin",
     "output_type": "stream",
     "text": [
      "enter the pet species: dog\n",
      "enter the pet age: 9\n"
     ]
    },
    {
     "name": "stdout",
     "output_type": "stream",
     "text": [
      "senior dog food\n"
     ]
    }
   ],
   "source": [
    "pet_species = input(\"enter the pet species:\")\n",
    "pet_age = int(input(\"enter the pet age:\"))\n",
    "\n",
    "if pet_species==\"dog\":\n",
    "    if pet_age<2:\n",
    "        print(\"pet puppy food\")\n",
    "    else :\n",
    "        print(\"senior dog food\")\n",
    "elif pet_species==\"cat\":\n",
    "    if pet_age<5:\n",
    "        print(\"kitten cat Food\")\n",
    "    else:\n",
    "        print(\"senior cat food\")\n",
    "else:\n",
    "    print(\"please enter the valid input\")"
   ]
  },
  {
   "cell_type": "code",
   "execution_count": 27,
   "id": "6bab94f3-8308-43fc-86eb-5786850b9201",
   "metadata": {},
   "outputs": [
    {
     "name": "stdin",
     "output_type": "stream",
     "text": [
      "enter the password: shoaib farooq\n"
     ]
    },
    {
     "name": "stdout",
     "output_type": "stream",
     "text": [
      "strong password\n"
     ]
    }
   ],
   "source": [
    "password=input(\"enter the password:\")\n",
    "\n",
    "if len(password)<6:\n",
    "    print(\"weak password\")\n",
    "\n",
    "elif len(password)<10:\n",
    "    print(\"medium password\")\n",
    "\n",
    "else:\n",
    "    print(\"strong password\")"
   ]
  },
  {
   "cell_type": "code",
   "execution_count": 29,
   "id": "fba5acc4-cb42-4bb9-abc4-967d691c50d3",
   "metadata": {},
   "outputs": [
    {
     "name": "stdin",
     "output_type": "stream",
     "text": [
      "enter the number: 2020\n"
     ]
    },
    {
     "name": "stdout",
     "output_type": "stream",
     "text": [
      "2020 is a leap year\n"
     ]
    }
   ],
   "source": [
    "year = int(input(\"enter the number:\"))\n",
    "\n",
    "if (year%400==0 or year%4==0 and year%100 != 0):\n",
    "    print(f\"{year} is a leap year\")\n",
    "\n",
    "else:\n",
    "    print(f\"{year} is  not a leap year\")"
   ]
  },
  {
   "cell_type": "code",
   "execution_count": null,
   "id": "addeaebe-1662-465b-a872-dff0bda609cf",
   "metadata": {},
   "outputs": [],
   "source": []
  }
 ],
 "metadata": {
  "kernelspec": {
   "display_name": "Python [conda env:anaconda3] *",
   "language": "python",
   "name": "conda-env-anaconda3-py"
  },
  "language_info": {
   "codemirror_mode": {
    "name": "ipython",
    "version": 3
   },
   "file_extension": ".py",
   "mimetype": "text/x-python",
   "name": "python",
   "nbconvert_exporter": "python",
   "pygments_lexer": "ipython3",
   "version": "3.12.7"
  }
 },
 "nbformat": 4,
 "nbformat_minor": 5
}
