{
 "cells": [
  {
   "cell_type": "markdown",
   "id": "027c5d7b-05d7-4fd2-9fd8-44c22d87c771",
   "metadata": {},
   "source": [
    "## Do these programs using control flow statements"
   ]
  },
  {
   "cell_type": "code",
   "execution_count": 3,
   "id": "e4658c1d-f347-48ae-973d-bc60902aad7d",
   "metadata": {},
   "outputs": [
    {
     "name": "stdout",
     "output_type": "stream",
     "text": [
      "even\n"
     ]
    }
   ],
   "source": [
    "#1. Check if a number is even or odd\n",
    "#num = 10\n",
    "num = 10 \n",
    "if (num%2==0):\n",
    "    print(\"even\")\n",
    "else:\n",
    "    print(\"odd\")"
   ]
  },
  {
   "cell_type": "code",
   "execution_count": 27,
   "id": "5f253572-ee9a-410f-9460-59d224282dca",
   "metadata": {},
   "outputs": [
    {
     "name": "stdout",
     "output_type": "stream",
     "text": [
      "a is greater\n"
     ]
    }
   ],
   "source": [
    "#Compare two numbers for greater than less than conditions \n",
    "#a = 30\n",
    "#b = 20\n",
    "a=30\n",
    "b=20\n",
    "if(a>b):\n",
    "    print(\"a is greater\")\n",
    "elif(b>a):\n",
    "    print(\"b is greater\")\n",
    "else:\n",
    "    print(\"nothing\")\n",
    "    \n",
    "\n"
   ]
  },
  {
   "cell_type": "code",
   "execution_count": 25,
   "id": "8fd3efc9-4713-4e94-b78d-923ff339afc8",
   "metadata": {},
   "outputs": [
    {
     "name": "stdout",
     "output_type": "stream",
     "text": [
      "num is  negative\n"
     ]
    }
   ],
   "source": [
    "#3. Check if a number is positive, negative, or zero\n",
    "#num = -5\n",
    "num= -5\n",
    "if num<0:\n",
    "    print(\"num is  negative\")\n",
    "elif num>0:\n",
    "    print(\"num is positive\")\n",
    "else :\n",
    "    print(\"num is zero\") "
   ]
  },
  {
   "cell_type": "code",
   "execution_count": 1,
   "id": "ad77330e-0bb5-4609-bd07-d0baa14f379e",
   "metadata": {},
   "outputs": [
    {
     "name": "stdout",
     "output_type": "stream",
     "text": [
      "the person is eligible to vote\n"
     ]
    }
   ],
   "source": [
    "#4. Check if a person is eligible to vote (age 18 or older)\n",
    "#age = 21\n",
    "age= 21\n",
    "if age>=18:\n",
    "    print(\"the person is eligible to vote\")\n",
    "else:\n",
    "    print(\"the person is not eligible to vote\")\n",
    "\n"
   ]
  },
  {
   "cell_type": "code",
   "execution_count": 19,
   "id": "3a4ed15c-9938-4c34-b7ee-434506af1b19",
   "metadata": {},
   "outputs": [
    {
     "name": "stdout",
     "output_type": "stream",
     "text": [
      " b is greater\n"
     ]
    }
   ],
   "source": [
    "#5. Determine the largest of three numbers\n",
    "#a = 10\n",
    "#b = 30\n",
    "#c = 20\n",
    "\n",
    "a= 10\n",
    "b= 30\n",
    "c= 20\n",
    "if a>b :\n",
    "    print (\" a is greater\")\n",
    "elif b>c:\n",
    "    print(\" b is greater\")\n",
    "elif a>c:\n",
    "    print(\"print c is greater\")\n",
    "else:\n",
    "    print(\" nothing \" )\n",
    "    \n",
    "    "
   ]
  },
  {
   "cell_type": "code",
   "execution_count": null,
   "id": "3c5a1f59-ec17-4519-bda0-7deaf62715e6",
   "metadata": {},
   "outputs": [],
   "source": []
  }
 ],
 "metadata": {
  "kernelspec": {
   "display_name": "Python [conda env:anaconda3] *",
   "language": "python",
   "name": "conda-env-anaconda3-py"
  },
  "language_info": {
   "codemirror_mode": {
    "name": "ipython",
    "version": 3
   },
   "file_extension": ".py",
   "mimetype": "text/x-python",
   "name": "python",
   "nbconvert_exporter": "python",
   "pygments_lexer": "ipython3",
   "version": "3.12.7"
  }
 },
 "nbformat": 4,
 "nbformat_minor": 5
}
